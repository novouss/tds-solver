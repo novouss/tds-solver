{
 "cells": [
  {
   "cell_type": "markdown",
   "metadata": {},
   "source": [
    "## ⚠️ WARNING\n",
    "\n",
    "This notebook isn't directly used for the API and is only intended for the development process of the project. \n",
    "\n",
    "Please remove the following to ensure a clean production build\n",
    "\n",
    "```bash\n",
    "uv remove ollama\n",
    "```"
   ]
  },
  {
   "cell_type": "markdown",
   "metadata": {},
   "source": [
    "## Ollama Assistance\n",
    "\n",
    "This section is specialized in utilizing local llms such as Ollama's `llama3.2` model to create documentations. This works in tandem to [data_preparations.ipynb](data_preparations.ipynb) for text embedding the docstrings of a function inside the `./submission` module.\n",
    "\n",
    "The purpose of creating this localized assistance is to generate texts without dealing with internet or server issues from other GPT models and capping out token usages.\n"
   ]
  },
  {
   "cell_type": "markdown",
   "metadata": {},
   "source": [
    "### Installing ollama\n",
    "\n",
    "```bash\n",
    "curl -fsSL https://ollama.com/install.sh | sh\n",
    "```\n"
   ]
  },
  {
   "cell_type": "markdown",
   "metadata": {},
   "source": [
    "### Installing a model\n",
    "\n",
    "```bash\n",
    "ollama run llama3.2\n",
    "```"
   ]
  },
  {
   "cell_type": "markdown",
   "metadata": {},
   "source": [
    "### Ollama Python Library\n",
    "\n",
    "```bash\n",
    "uv add ollama\n",
    "```"
   ]
  },
  {
   "cell_type": "markdown",
   "metadata": {},
   "source": [
    "## Initialization and System Prompt"
   ]
  },
  {
   "cell_type": "code",
   "execution_count": 7,
   "metadata": {},
   "outputs": [],
   "source": [
    "system_prompt = \"\"\"\n",
    "    You create docstrings for functions provided by the user. These are the rules for your output\n",
    "    - Keep the docstrings short but very specific and clear as to what the function does. \n",
    "    - Ensure that this content is in Google Python Style and is a valid docstring for the ast Python library.\n",
    "    - You only have to provide the docstring, there's no need to write the rest of the code, use this format below as a guide.\n",
    "    \n",
    "    docstring\n",
    "    \n",
    "    Args:\n",
    "        param1 (str): A description of param1\n",
    "        param2 (str): A description of param2\n",
    "    \n",
    "    Returns:\n",
    "        int: A description of the output\n",
    "    \n",
    "    Raises:\n",
    "        Type of error: A description of the error\n",
    "    \n",
    "    Example:\n",
    "        >>> example(\"hello\", \"world\")\n",
    "        hello world\n",
    "\"\"\""
   ]
  },
  {
   "cell_type": "code",
   "execution_count": 8,
   "metadata": {},
   "outputs": [],
   "source": [
    "import ollama\n",
    "\n",
    "def create_docstring(prompt: str):\n",
    "    response = ollama.chat(\n",
    "       model = \"llama3.2\",\n",
    "        messages=[\n",
    "            { \"role\": \"system\", \"content\": system_prompt },\n",
    "            { \"role\": \"user\", \"content\": prompt }\n",
    "        ]\n",
    "    )\n",
    "    return str(response[\"message\"][\"content\"])\n"
   ]
  },
  {
   "cell_type": "markdown",
   "metadata": {},
   "source": [
    "## Docstring exports"
   ]
  },
  {
   "cell_type": "code",
   "execution_count": 4,
   "metadata": {},
   "outputs": [
    {
     "name": "stdout",
     "output_type": "stream",
     "text": [
      "```python\n",
      "def zipfile_extract(\n",
      "    zippath: str,  # Path to the ZIP file to extract.\n",
      "    extractpath: str  # Path where extracted files will be saved.\n",
      ") -> List[str]:\n",
      "    \"\"\"\n",
      "    Extracts all files from a ZIP file and returns their list of names.\n",
      "\n",
      "    Args:\n",
      "        zippath (str): The path to the ZIP file to extract.\n",
      "        extractpath (str): The path where extracted files will be saved.\n",
      "\n",
      "    Raises:\n",
      "        FileNotFoundError: If the specified ZIP file does not exist.\n",
      "\n",
      "    Returns:\n",
      "        List[str]: A list of file names in the ZIP file.\n",
      "    \"\"\"\n",
      "\n",
      "    # TO DO: Add description for try-except block\n",
      "    return [file]\n",
      "```\n"
     ]
    }
   ],
   "source": [
    "print(create_docstring(\"\"\"\n",
    "def zipfile_extract(zippath: str, extractpath: str) -> List[str]:\n",
    "    try:\n",
    "        with zipfile.ZipFile(zippath, \"r\") as f:\n",
    "            f.extractall(extractpath)\n",
    "            files = f.namelist()\n",
    "    except FileNotFoundError as fnfe:\n",
    "        raise FileNotFoundError(fnfe)\n",
    "    \n",
    "    return files\n",
    "\"\"\"))"
   ]
  },
  {
   "cell_type": "code",
   "execution_count": null,
   "metadata": {},
   "outputs": [],
   "source": []
  }
 ],
 "metadata": {
  "kernelspec": {
   "display_name": ".venv",
   "language": "python",
   "name": "python3"
  },
  "language_info": {
   "codemirror_mode": {
    "name": "ipython",
    "version": 3
   },
   "file_extension": ".py",
   "mimetype": "text/x-python",
   "name": "python",
   "nbconvert_exporter": "python",
   "pygments_lexer": "ipython3",
   "version": "3.12.9"
  }
 },
 "nbformat": 4,
 "nbformat_minor": 2
}
